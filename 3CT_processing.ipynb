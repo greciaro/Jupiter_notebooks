{
 "cells": [
  {
   "cell_type": "code",
   "execution_count": 1,
   "id": "1de3d7d8",
   "metadata": {},
   "outputs": [],
   "source": [
    "# importing all libraries needed\n",
    "import numpy as np\n",
    "import pandas as pd\n",
    "import os\n",
    "import time as tm"
   ]
  },
  {
   "cell_type": "code",
   "execution_count": 2,
   "id": "58709f47",
   "metadata": {},
   "outputs": [
    {
     "data": {
      "text/plain": [
       "'C:\\\\Users\\\\greci\\\\Documents\\\\Jupiter_notebooks\\\\forJuliana'"
      ]
     },
     "execution_count": 2,
     "metadata": {},
     "output_type": "execute_result"
    }
   ],
   "source": [
    "# saving the main directory\n",
    "main_directory = os.getcwd()\n",
    "main_directory"
   ]
  },
  {
   "cell_type": "code",
   "execution_count": 3,
   "id": "66a1d0f8",
   "metadata": {},
   "outputs": [
    {
     "data": {
      "text/plain": [
       "2"
      ]
     },
     "execution_count": 3,
     "metadata": {},
     "output_type": "execute_result"
    }
   ],
   "source": [
    "#Counting number of files on folder\n",
    "list = os.listdir('files') \n",
    "number_files = len(list)\n",
    "number_files"
   ]
  },
  {
   "cell_type": "code",
   "execution_count": 4,
   "id": "d8d707e1",
   "metadata": {},
   "outputs": [
    {
     "data": {
      "text/plain": [
       "'C:\\\\Users\\\\greci\\\\Documents\\\\Jupiter_notebooks\\\\forJuliana\\\\files'"
      ]
     },
     "execution_count": 4,
     "metadata": {},
     "output_type": "execute_result"
    }
   ],
   "source": [
    "# Changing directory to the folder\n",
    "os.chdir(r'C:\\\\Users\\\\greci\\\\Documents\\\\Jupiter_notebooks\\\\forJuliana\\\\files')\n",
    "os.getcwd()\n"
   ]
  },
  {
   "cell_type": "code",
   "execution_count": 13,
   "id": "e662149b",
   "metadata": {},
   "outputs": [
    {
     "name": "stdout",
     "output_type": "stream",
     "text": [
      "2  Files processed \n",
      " \n",
      " Execution time: 0.18 seconds\n"
     ]
    }
   ],
   "source": [
    "#Using a loop to process all files and populate the main data-frame\n",
    "\n",
    "# Starting process timming\n",
    "start = tm.time()\n",
    "\n",
    "# Creating main data-frame\n",
    "appended_data = [] #This array will contain df as elements\n",
    "\n",
    "i = 0\n",
    "while i < number_files:\n",
    "    \n",
    "    ##############################################\n",
    "    # Processing each file\n",
    "    ##############################################\n",
    "    # Saving file's name\n",
    "    file = list[i]\n",
    "    # Reading files\n",
    "    ThreeCT_data = pd.ExcelFile(file)\n",
    "\n",
    "    # Saving group's name\n",
    "    group_name = file[0:8]\n",
    "\n",
    "\n",
    "    # Reading sheets within files\n",
    "    df1 = pd.read_excel(ThreeCT_data, '1', header=None)\n",
    "    df2 = pd.read_excel(ThreeCT_data, '2', header=None)\n",
    "    df3 = pd.read_excel(ThreeCT_data, '3', header=None)\n",
    "    df4 = pd.read_excel(ThreeCT_data, '4', header=None)\n",
    "\n",
    "    #Dropping the frist 13 rows and the row between the last reading and the \"sum\"\n",
    "    rows_to_drop = np.arange(13)\n",
    "    rows_to_drop = np.append(rows_to_drop,[19])\n",
    "    df1 = df1.drop(df1.index[rows_to_drop])\n",
    "    df2 = df2.drop(df2.index[rows_to_drop])\n",
    "    df3 = df3.drop(df3.index[rows_to_drop])\n",
    "    df4 = df4.drop(df4.index[rows_to_drop])\n",
    "    \n",
    "    #locating empty and iso columns\n",
    "    e1 = df1.loc[13].where(df1.loc[13].str.contains('empty')).dropna(how='all')\n",
    "    e1.index #To getthe column value\n",
    "    empty1 = e1.index[0]\n",
    "    s1 = df1.loc[13].where(df1.loc[13].str.contains('iso')).dropna(how='all')\n",
    "    s1.index #To getthe column value\n",
    "    iso1 = s1.index[0]\n",
    "    \n",
    "    e2 = df2.loc[13].where(df2.loc[13].str.contains('empty')).dropna(how='all')\n",
    "    e2.index #To getthe column value\n",
    "    empty2 = e2.index[0]\n",
    "    s2 = df2.loc[13].where(df2.loc[13].str.contains('iso')).dropna(how='all')\n",
    "    s2.index #To getthe column value\n",
    "    iso2 = s2.index[0]\n",
    "    \n",
    "    e3 = df3.loc[13].where(df3.loc[13].str.contains('empty')).dropna(how='all')\n",
    "    e3.index #To getthe column value\n",
    "    empty3 = e3.index[0]\n",
    "    s3 = df3.loc[13].where(df3.loc[13].str.contains('iso')).dropna(how='all')\n",
    "    s3.index #To getthe column value\n",
    "    iso3 = s3.index[0]\n",
    "    \n",
    "    e4 = df4.loc[13].where(df4.loc[13].str.contains('empty')).dropna(how='all')\n",
    "    e4.index #To getthe column value\n",
    "    empty4 = e4.index[0]\n",
    "    s4 = df4.loc[13].where(df4.loc[13].str.contains('iso')).dropna(how='all')\n",
    "    s4.index #To getthe column value\n",
    "    iso4 = s4.index[0]\n",
    "    \n",
    "    # Categorizing \"duration\" labels to iso or empty\n",
    "    df1.iloc[1:2, empty1:empty1+1] = 'Duration_empty_(s)'\n",
    "    df1.iloc[1:2, iso1:iso1+1] = 'Duration_iso_(s)'\n",
    "    \n",
    "    df2.iloc[1:2, empty2:empty2+1] = 'Duration_empty_(s)'\n",
    "    df2.iloc[1:2, iso2:iso2+1] = 'Duration_iso_(s)'\n",
    "    \n",
    "    df3.iloc[1:2, empty3:empty3+1] = 'Duration_empty_(s)'\n",
    "    df3.iloc[1:2, iso3:iso3+1] = 'Duration_iso_(s)'\n",
    "    \n",
    "    df4.iloc[1:2, empty4:empty4+1] = 'Duration_empty_(s)'\n",
    "    df4.iloc[1:2, iso4:iso4+1] = 'Duration_iso_(s)'\n",
    "    \n",
    "    #Dropping 13th row, now the 0th row\n",
    "    df1 = df1.drop(df1.index[0])\n",
    "    df2 = df2.drop(df2.index[0])\n",
    "    df3 = df3.drop(df3.index[0])\n",
    "    df4 = df4.drop(df4.index[0])\n",
    "    \n",
    "    #Creating and assigning new header\n",
    "    new_header = df1.iloc[0] #grab the first row for the header\n",
    "    df1 = df1[1:] #take the data less the header row\n",
    "    df1.columns = new_header #set the header row as the df header\n",
    "    df2 = df2[1:] #take the data less the header row\n",
    "    df2.columns = new_header #set the header row as the df header\n",
    "    df3 = df3[1:] #take the data less the header row\n",
    "    df3.columns = new_header #set the header row as the df header\n",
    "    df4 = df4[1:] #take the data less the header row\n",
    "    df4.columns = new_header #set the header row as the df header\n",
    "\n",
    "    # Selecting columns of av verlocity and visit latency for iso and empty\n",
    "    df1 = df1[[\"Avg. velocity (pixels/s)\", \"Duration_empty_(s)\",\"Duration_iso_(s)\"]]\n",
    "    df1.columns=[\"AVG_VEL_PIXELS/s)\", \"DURATION_EMPTY_s\", \"DURATION_ISO_s\"]\n",
    "    df1.reset_index(drop=True, inplace=True)\n",
    "\n",
    "    df2 = df2[[\"Avg. velocity (pixels/s)\", \"Duration_empty_(s)\",\"Duration_iso_(s)\"]]\n",
    "    df2.columns=[\"AVG_VEL_PIXELS/s)\", \"DURATION_EMPTY_s\", \"DURATION_ISO_s\"]\n",
    "    df2.reset_index(drop=True, inplace=True)\n",
    "\n",
    "    df3 = df3[[\"Avg. velocity (pixels/s)\", \"Duration_empty_(s)\",\"Duration_iso_(s)\"]]\n",
    "    df3.columns=[\"AVG_VEL_PIXELS/s)\", \"DURATION_EMPTY_s\", \"DURATION_ISO_s\"]\n",
    "    df3.reset_index(drop=True, inplace=True)\n",
    "\n",
    "    df4 = df4[[\"Avg. velocity (pixels/s)\", \"Duration_empty_(s)\",\"Duration_iso_(s)\"]]\n",
    "    df4.columns=[\"AVG_VEL_PIXELS/s)\", \"DURATION_EMPTY_s\", \"DURATION_ISO_s\"]\n",
    "    df4.reset_index(drop=True, inplace=True)\n",
    "\n",
    "    # Adding time in minutes' column\n",
    "    TIME_minutes = [5,10,15,20,\"SUM\"]# Creating time-column vector\n",
    "    df1.insert(0, 'TIME_STEP_minutes', TIME_minutes)\n",
    "    df2.insert(0, 'TIME_STEP_minutes', TIME_minutes)\n",
    "    df3.insert(0, 'TIME_STEP_minutes', TIME_minutes)\n",
    "    df4.insert(0, 'TIME_STEP_minutes', TIME_minutes)\n",
    "\n",
    "    #Adding mouse name\n",
    "    df1.insert(0, 'MOUSE_NAME', [group_name + '_1']*5)\n",
    "    df2.insert(0, 'MOUSE_NAME', [group_name + '_2']*5)\n",
    "    df3.insert(0, 'MOUSE_NAME', [group_name + '_3']*5)\n",
    "    df4.insert(0, 'MOUSE_NAME', [group_name + '_4']*5)\n",
    "\n",
    "    #Calculating relative and normalized social index\n",
    "    sum1 = (df1[\"DURATION_EMPTY_s\"] + df1[\"DURATION_ISO_s\"])\n",
    "    sum2 = (df2[\"DURATION_EMPTY_s\"] + df2[\"DURATION_ISO_s\"])\n",
    "    sum3 = (df3[\"DURATION_EMPTY_s\"] + df3[\"DURATION_ISO_s\"])\n",
    "    sum4 = (df4[\"DURATION_EMPTY_s\"] + df4[\"DURATION_ISO_s\"])\n",
    "    \n",
    "    \n",
    "    if sum1.all():\n",
    "        df1['SOL_IDX_REL'] = 100 * (df1[\"DURATION_ISO_s\"] - df1['DURATION_EMPTY_s'])/(df1[\"DURATION_ISO_s\"] + df1['DURATION_EMPTY_s'])\n",
    "    else:\n",
    "#         idx = sum.index[sum == 0]\n",
    "#         if idx.size = 1:\n",
    "#            df1['SOL_IDX_REL',idx[0]] = 0 \n",
    "#         else\n",
    "            \n",
    "        df1['SOL_IDX_REL'] = 0\n",
    "    df1['SOL_IDX_NORM'] = 100 * (df1[\"DURATION_ISO_s\"] - df1['DURATION_EMPTY_s'])/(5*60)\n",
    "    \n",
    "    if sum2.all(): \n",
    "        df2['SOL_IDX_REL'] = 100 * (df2[\"DURATION_ISO_s\"] - df2['DURATION_EMPTY_s'])/(df2['DURATION_EMPTY_s'] + df2['DURATION_EMPTY_s'])    \n",
    "    else: \n",
    "        df2['SOL_IDX_REL'] = 0\n",
    "    df2['SOL_IDX_NORM'] = 100 * (df2[\"DURATION_ISO_s\"] - df2['DURATION_EMPTY_s'])/(5*60)\n",
    "    \n",
    "    if sum3.all():\n",
    "        df3['SOL_IDX_REL'] = 100 * (df3[\"DURATION_ISO_s\"] - df3['DURATION_EMPTY_s'])/(df3[\"DURATION_ISO_s\"] + df3['DURATION_EMPTY_s']) \n",
    "    else:\n",
    "        df3['SOL_IDX_REL'] = 0\n",
    "    df3['SOL_IDX_NORM'] = 100 * (df3[\"DURATION_ISO_s\"] - df3['DURATION_EMPTY_s'])/(5*60)\n",
    "    \n",
    "    if sum4.all():\n",
    "        df4['SOL_IDX_REL'] = 100 * (df4[\"DURATION_ISO_s\"] - df4['DURATION_EMPTY_s'])/(df4[\"DURATION_ISO_s\"] + df4['DURATION_EMPTY_s'])\n",
    "    else:\n",
    "        df4['SOL_IDX_REL'] = 0\n",
    "    df4['SOL_IDX_NORM'] = 100 * (df4[\"DURATION_ISO_s\"] - df4['DURATION_EMPTY_s'])/(5*60)\n",
    "\n",
    "\n",
    "    appended_data.append(df1)\n",
    "    appended_data.append(df2)\n",
    "    appended_data.append(df3)\n",
    "    appended_data.append(df4)\n",
    "\n",
    "    ##########################################################################################################################\n",
    "    \n",
    "\n",
    "    i += 1\n",
    "    \n",
    "\n",
    "appended_data = pd.concat(appended_data)\n",
    "end = tm.time()\n",
    "\n",
    "# Priting running time and files processed\n",
    "print(i,' Files processed ')\n",
    "print(' ')\n",
    "print(' Execution time:', round((end - start),2), 'seconds') \n",
    "\n",
    "# Exporting dt to csv\n",
    "appended_data.to_excel('3CT_data.xlsx',index=False)\n"
   ]
  },
  {
   "cell_type": "code",
   "execution_count": null,
   "id": "f4ea6ad8",
   "metadata": {},
   "outputs": [],
   "source": [
    "file = list[0]\n",
    "ThreeCT_data = pd.ExcelFile(file)\n",
    "df1 = pd.read_excel(ThreeCT_data, '1', header=None)\n",
    "rows_to_drop = np.arange(13)\n",
    "rows_to_drop = np.append(rows_to_drop,[19])\n",
    "df1 = df1.drop(df1.index[rows_to_drop])\n",
    "# df1 = df1.drop(df1.index[0])\n",
    "df1"
   ]
  },
  {
   "cell_type": "code",
   "execution_count": null,
   "id": "3f7b6ab8",
   "metadata": {},
   "outputs": [],
   "source": [
    "e = df1.loc[13].where(df1.loc[13].str.contains('empty')).dropna(how='all')\n",
    "e.index #To getthe column value\n",
    "empty = e.index[0]\n",
    "empty"
   ]
  },
  {
   "cell_type": "code",
   "execution_count": null,
   "id": "e22751a2",
   "metadata": {},
   "outputs": [],
   "source": []
  },
  {
   "cell_type": "code",
   "execution_count": null,
   "id": "201940de",
   "metadata": {},
   "outputs": [],
   "source": []
  },
  {
   "cell_type": "code",
   "execution_count": 9,
   "id": "893b1e4e",
   "metadata": {},
   "outputs": [
    {
     "data": {
      "text/plain": [
       "5"
      ]
     },
     "execution_count": 9,
     "metadata": {},
     "output_type": "execute_result"
    }
   ],
   "source": [
    "TIME_minutes = [5,10,15,20,\"TOTAL\"]\n",
    "len(TIME_minutes)"
   ]
  }
 ],
 "metadata": {
  "kernelspec": {
   "display_name": "Python 3",
   "language": "python",
   "name": "python3"
  },
  "language_info": {
   "codemirror_mode": {
    "name": "ipython",
    "version": 3
   },
   "file_extension": ".py",
   "mimetype": "text/x-python",
   "name": "python",
   "nbconvert_exporter": "python",
   "pygments_lexer": "ipython3",
   "version": "3.8.8"
  }
 },
 "nbformat": 4,
 "nbformat_minor": 5
}
