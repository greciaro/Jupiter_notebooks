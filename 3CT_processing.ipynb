{
 "cells": [
  {
   "cell_type": "code",
   "execution_count": 1,
   "id": "1de3d7d8",
   "metadata": {},
   "outputs": [],
   "source": [
    "# importing all libraries needed\n",
    "import numpy as np\n",
    "import pandas as pd\n",
    "import os"
   ]
  },
  {
   "cell_type": "code",
   "execution_count": 2,
   "id": "58709f47",
   "metadata": {},
   "outputs": [
    {
     "data": {
      "text/plain": [
       "'C:\\\\Users\\\\greci\\\\Documents\\\\Jupiter_notebooks\\\\forJuliana'"
      ]
     },
     "execution_count": 2,
     "metadata": {},
     "output_type": "execute_result"
    }
   ],
   "source": [
    "# saving the main directory\n",
    "main_directory = os.getcwd()\n",
    "main_directory"
   ]
  },
  {
   "cell_type": "code",
   "execution_count": 3,
   "id": "66a1d0f8",
   "metadata": {},
   "outputs": [
    {
     "data": {
      "text/plain": [
       "3"
      ]
     },
     "execution_count": 3,
     "metadata": {},
     "output_type": "execute_result"
    }
   ],
   "source": [
    "#Counting number of files on folder\n",
    "list = os.listdir('files') \n",
    "number_files = len(list)\n",
    "number_files"
   ]
  },
  {
   "cell_type": "code",
   "execution_count": 4,
   "id": "d8d707e1",
   "metadata": {},
   "outputs": [
    {
     "data": {
      "text/plain": [
       "'C:\\\\Users\\\\greci\\\\Documents\\\\Jupiter_notebooks\\\\forJuliana\\\\files'"
      ]
     },
     "execution_count": 4,
     "metadata": {},
     "output_type": "execute_result"
    }
   ],
   "source": [
    "# Changing directory to the folder\n",
    "os.chdir(r'C:\\\\Users\\\\greci\\\\Documents\\\\Jupiter_notebooks\\\\forJuliana\\\\files')\n",
    "os.getcwd()\n"
   ]
  },
  {
   "cell_type": "code",
   "execution_count": 62,
   "id": "e662149b",
   "metadata": {},
   "outputs": [
    {
     "data": {
      "text/html": [
       "<div>\n",
       "<style scoped>\n",
       "    .dataframe tbody tr th:only-of-type {\n",
       "        vertical-align: middle;\n",
       "    }\n",
       "\n",
       "    .dataframe tbody tr th {\n",
       "        vertical-align: top;\n",
       "    }\n",
       "\n",
       "    .dataframe thead th {\n",
       "        text-align: right;\n",
       "    }\n",
       "</style>\n",
       "<table border=\"1\" class=\"dataframe\">\n",
       "  <thead>\n",
       "    <tr style=\"text-align: right;\">\n",
       "      <th></th>\n",
       "      <th>AVG_VEL_PIXELS/s)</th>\n",
       "      <th>VISIT_LATENCY_ISO_s</th>\n",
       "      <th>VISIT_LATENCY_EMPTY_s</th>\n",
       "    </tr>\n",
       "  </thead>\n",
       "  <tbody>\n",
       "    <tr>\n",
       "      <th>0</th>\n",
       "      <td>40.2</td>\n",
       "      <td>76.2</td>\n",
       "      <td>44.8</td>\n",
       "    </tr>\n",
       "    <tr>\n",
       "      <th>1</th>\n",
       "      <td>27.2</td>\n",
       "      <td>35.1</td>\n",
       "      <td>7.2</td>\n",
       "    </tr>\n",
       "    <tr>\n",
       "      <th>2</th>\n",
       "      <td>28.7</td>\n",
       "      <td>124.2</td>\n",
       "      <td>53.5</td>\n",
       "    </tr>\n",
       "    <tr>\n",
       "      <th>3</th>\n",
       "      <td>25.4</td>\n",
       "      <td>14.9</td>\n",
       "      <td>85.8</td>\n",
       "    </tr>\n",
       "  </tbody>\n",
       "</table>\n",
       "</div>"
      ],
      "text/plain": [
       "  AVG_VEL_PIXELS/s) VISIT_LATENCY_ISO_s VISIT_LATENCY_EMPTY_s\n",
       "0              40.2                76.2                  44.8\n",
       "1              27.2                35.1                   7.2\n",
       "2              28.7               124.2                  53.5\n",
       "3              25.4                14.9                  85.8"
      ]
     },
     "execution_count": 62,
     "metadata": {},
     "output_type": "execute_result"
    }
   ],
   "source": [
    "# Reading files\n",
    "ThreeCT_data = pd.ExcelFile('Session1_07062021_Males_WT_PLex.xlsx')\n",
    "\n",
    "# Reading sheets within files\n",
    "df1 = pd.read_excel(ThreeCT_data, '1', header=None)\n",
    "df2 = pd.read_excel(ThreeCT_data, '2', header=None)\n",
    "df3 = pd.read_excel(ThreeCT_data, '3', header=None)\n",
    "df4 = pd.read_excel(ThreeCT_data, '4', header=None)\n",
    "\n",
    "#Dropping the frist 14 rows and the last two\n",
    "rows_to_drop = np.arange(14)\n",
    "rows_to_drop = np.append(rows_to_drop,[19,20])\n",
    "df1 = df1.drop(df1.index[rows_to_drop])\n",
    "df2 = df2.drop(df2.index[rows_to_drop])\n",
    "df3 = df3.drop(df3.index[rows_to_drop])\n",
    "df4 = df4.drop(df4.index[rows_to_drop])\n",
    "\n",
    "#Creating and assigning new header\n",
    "new_header = df1.iloc[0] #grab the first row for the header\n",
    "df1 = df1[1:] #take the data less the header row\n",
    "df1.columns = new_header #set the header row as the df header\n",
    "df2 = df2[1:] #take the data less the header row\n",
    "df2.columns = new_header #set the header row as the df header\n",
    "df3 = df3[1:] #take the data less the header row\n",
    "df3.columns = new_header #set the header row as the df header\n",
    "df4 = df4[1:] #take the data less the header row\n",
    "df4.columns = new_header #set the header row as the df header\n",
    "\n",
    "# Selecting columns of av verlocity and visit latency for iso and empty\n",
    "df1 = df1[[\"Avg. velocity (pixels/s)\", \"Visit latency (s)\"]]\n",
    "df1.columns=[\"AVG_VEL_PIXELS/s)\", \"VISIT_LATENCY_ISO_s\", \"VISIT_LATENCY_EMPTY_s\"]\n",
    "df1.reset_index(drop=True, inplace=True)\n",
    "\n",
    "# Adding time in minutes' column\n",
    "TIME_minutes = [5,10,15,20]# Creating time-column vector\n",
    "\n",
    "\n",
    "df1"
   ]
  },
  {
   "cell_type": "code",
   "execution_count": 19,
   "id": "4de14026",
   "metadata": {},
   "outputs": [
    {
     "name": "stdout",
     "output_type": "stream",
     "text": [
      "Session1_07062021_Males_WT_PLex\n"
     ]
    },
    {
     "data": {
      "text/plain": [
       "'Session1'"
      ]
     },
     "execution_count": 19,
     "metadata": {},
     "output_type": "execute_result"
    }
   ],
   "source": [
    "# Saving group's name\n",
    "file = 'Session1_07062021_Males_WT_PLex'\n",
    "print(file)\n",
    "group_name = file[0:8]\n",
    "group_name"
   ]
  },
  {
   "cell_type": "code",
   "execution_count": null,
   "id": "41aafae4",
   "metadata": {},
   "outputs": [],
   "source": [
    "\n"
   ]
  },
  {
   "cell_type": "code",
   "execution_count": null,
   "id": "9d0fde52",
   "metadata": {},
   "outputs": [],
   "source": []
  },
  {
   "cell_type": "code",
   "execution_count": null,
   "id": "ec5bd616",
   "metadata": {},
   "outputs": [],
   "source": [
    "xls = pd.ExcelFile('path_to_file.xls')\n",
    "\n",
    "\n",
    "\n",
    "\n",
    "\n",
    "\n",
    "#Using a loop to process all files and populate the main data-frame\n",
    "\n",
    "i = 0\n",
    "while i < number_files:\n",
    "    \n",
    "    ##############################################\n",
    "    # Processing each file\n",
    "    ##############################################\n",
    "    # Saving sample's number and reviewer's name\n",
    "    file = list[i]\n",
    "    sample = file[5:7]\n",
    "\n",
    "\n",
    "    # Reading file's data\n",
    "    regions_count_activity_fracc = pd.read_csv(file)\n",
    "    regions_count_activity_fracc = regions_count_activity_fracc[regions_count_activity_fracc.PIXEL_COUNT != \"PIXEL_COUNT\"]\n",
    "\n",
    "    # Adding-up regions' fracctions\n",
    "    regions_fracc_1 = regions_count_activity_fracc[[\"INTENSITY_1\", \"INTENSITY_1_PERC\"]]\n",
    "    regions_fracc_2 = regions_count_activity_fracc[[\"INTENSITY_2\", \"INTENSITY_2_PERC\"]]\n",
    "    regions_fracc_3 = regions_count_activity_fracc[[\"INTENSITY_3\", \"INTENSITY_3_PERC\"]]\n",
    "    regions_fracc_1 = regions_fracc_1.rename(columns={\"INTENSITY_1\": \"INTENSITY\",\"INTENSITY_1_PERC\" : \"COUNTS\"})\n",
    "    regions_fracc_2 = regions_fracc_2.rename(columns={\"INTENSITY_2\": \"INTENSITY\",\"INTENSITY_2_PERC\" : \"COUNTS\"})\n",
    "    regions_fracc_3 = regions_fracc_3.rename(columns={\"INTENSITY_3\": \"INTENSITY\",\"INTENSITY_3_PERC\" : \"COUNTS\"})\n",
    "    total_region_activity = regions_fracc_1.append(regions_fracc_2, ignore_index=True).append(regions_fracc_3, ignore_index=True)\n",
    "    total_region_activity[\"COUNTS\"] = total_region_activity[\"COUNTS\"].astype(float)\n",
    "    total_region_activity = total_region_activity.groupby(['INTENSITY']).agg('sum').reset_index()\n",
    "    total_region_activity[\"COUNTS\"] = total_region_activity[\"COUNTS\"].round(0)\n",
    "    total_region_activity[\"INTENSITY\"] = total_region_activity[\"INTENSITY\"].astype(int)\n",
    "\n",
    "    # Adding activity columns to intensitites template data-frame\n",
    "    output = intensities_template.merge(total_region_activity, how='left', left_on='LabelID', right_on='INTENSITY')\n",
    "    output = output.drop(columns=['INTENSITY'])\n",
    "    activity_label_name = 'ACTIVITY'\n",
    "    output = output.rename(columns = {'COUNTS':activity_label_name})\n",
    "\n",
    "    # Adding a column of the sample number\n",
    "    sample_column = np.empty(len(output))\n",
    "    sample = int(sample)\n",
    "    sample_column.fill(sample)\n",
    "    output['SAMPLE'] = sample_column\n",
    "    ##########################################################################################################################\n",
    "    \n",
    "    # store DataFrame in list\n",
    "    appended_data.append(output)\n",
    "    \n",
    "    i += 1\n",
    "    \n",
    "# see pd.concat documentation for more info\n",
    "appended_data = pd.concat(appended_data)\n",
    "end = time.time()\n",
    "\n",
    "\n",
    "print(i,' Files processed ')\n",
    "print(' ')"
   ]
  }
 ],
 "metadata": {
  "kernelspec": {
   "display_name": "Python 3",
   "language": "python",
   "name": "python3"
  },
  "language_info": {
   "codemirror_mode": {
    "name": "ipython",
    "version": 3
   },
   "file_extension": ".py",
   "mimetype": "text/x-python",
   "name": "python",
   "nbconvert_exporter": "python",
   "pygments_lexer": "ipython3",
   "version": "3.8.8"
  }
 },
 "nbformat": 4,
 "nbformat_minor": 5
}
