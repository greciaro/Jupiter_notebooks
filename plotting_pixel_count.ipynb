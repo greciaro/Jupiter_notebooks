{
 "cells": [
  {
   "cell_type": "code",
   "execution_count": null,
   "id": "2a413c6a",
   "metadata": {},
   "outputs": [],
   "source": [
    "# importing all libraries needed\n",
    "import numpy as np\n",
    "import pandas as pd\n",
    "import os\n",
    "import matplotlib.pyplot as plt # importing matplotlib\n",
    "from matplotlib.ticker import StrMethodFormatter"
   ]
  },
  {
   "cell_type": "code",
   "execution_count": null,
   "id": "412bd4b8",
   "metadata": {},
   "outputs": [],
   "source": [
    "PPNA_PSND = pd.read_csv(\"pixel_count_output_PPNA_PSND.csv\")\n"
   ]
  },
  {
   "cell_type": "code",
   "execution_count": null,
   "id": "b1f2f783",
   "metadata": {},
   "outputs": [],
   "source": [
    "PPNA_PSND_columns = PPNA_PSND.columns.values"
   ]
  },
  {
   "cell_type": "code",
   "execution_count": null,
   "id": "cd347483",
   "metadata": {},
   "outputs": [],
   "source": [
    "x = np.random.normal(0, 1, 6000) # normal distribution\n",
    "plt.figure(figsize=(14,7)) # Make it 14x7 inch\n",
    "plt.style.use('seaborn-whitegrid') # nice and clean grid\n",
    "plt.hist(x, bins=90, facecolor = '#2ab0ff', edgecolor='#169acf', linewidth=0.5)\n",
    "plt.title('Normal Distribution') \n",
    "plt.xlabel('Bins') \n",
    "plt.ylabel('Values') \n",
    "plt.show()"
   ]
  },
  {
   "cell_type": "code",
   "execution_count": null,
   "id": "b6afc2f1",
   "metadata": {},
   "outputs": [],
   "source": [
    "PPNA_PSND.hist(column=PPNA_PSND_columns[0], bins=25, grid=False, figsize=(12,8), color='#86bf91', zorder=2, rwidth=0.9)"
   ]
  }
 ],
 "metadata": {
  "kernelspec": {
   "display_name": "Python 3",
   "language": "python",
   "name": "python3"
  },
  "language_info": {
   "codemirror_mode": {
    "name": "ipython",
    "version": 3
   },
   "file_extension": ".py",
   "mimetype": "text/x-python",
   "name": "python",
   "nbconvert_exporter": "python",
   "pygments_lexer": "ipython3",
   "version": "3.8.8"
  }
 },
 "nbformat": 4,
 "nbformat_minor": 5
}
