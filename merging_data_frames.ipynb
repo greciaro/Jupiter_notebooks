{
 "cells": [
  {
   "cell_type": "code",
   "execution_count": 1,
   "id": "4ed2e018",
   "metadata": {},
   "outputs": [],
   "source": [
    "import numpy as np"
   ]
  },
  {
   "cell_type": "code",
   "execution_count": 2,
   "id": "fa31867f",
   "metadata": {},
   "outputs": [],
   "source": [
    "import pandas as pd"
   ]
  },
  {
   "cell_type": "code",
   "execution_count": null,
   "id": "0557819e",
   "metadata": {},
   "outputs": [],
   "source": [
    "pixels_count = pd.read_csv(\"SMM_s1_DR_Seg_3Dcount_75slices.csv\")"
   ]
  },
  {
   "cell_type": "code",
   "execution_count": null,
   "id": "ade87e9a",
   "metadata": {},
   "outputs": [],
   "source": [
    "volume_count = pd.read_csv(\"SMM_s1_ABA_histogram_total.csv\")"
   ]
  },
  {
   "cell_type": "code",
   "execution_count": 5,
   "id": "40aa15d4",
   "metadata": {},
   "outputs": [],
   "source": [
    "volume_in_tissue_count = pd.read_csv(\"SMM_s1_ABA_histogram_in_tissue_total.csv\")"
   ]
  },
  {
   "cell_type": "code",
   "execution_count": null,
   "id": "93e12eee",
   "metadata": {},
   "outputs": [],
   "source": []
  },
  {
   "cell_type": "code",
   "execution_count": null,
   "id": "6135ecaf",
   "metadata": {},
   "outputs": [],
   "source": []
  }
 ],
 "metadata": {
  "kernelspec": {
   "display_name": "Python 3",
   "language": "python",
   "name": "python3"
  },
  "language_info": {
   "codemirror_mode": {
    "name": "ipython",
    "version": 3
   },
   "file_extension": ".py",
   "mimetype": "text/x-python",
   "name": "python",
   "nbconvert_exporter": "python",
   "pygments_lexer": "ipython3",
   "version": "3.8.8"
  }
 },
 "nbformat": 4,
 "nbformat_minor": 5
}
