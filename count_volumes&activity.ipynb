{
 "cells": [
  {
   "cell_type": "code",
   "execution_count": 1,
   "id": "beeeaaac",
   "metadata": {},
   "outputs": [],
   "source": [
    "import numpy as np"
   ]
  },
  {
   "cell_type": "code",
   "execution_count": 2,
   "id": "3e7ca956",
   "metadata": {},
   "outputs": [],
   "source": [
    "import pandas as pd"
   ]
  },
  {
   "cell_type": "code",
   "execution_count": 3,
   "id": "0d51e47c",
   "metadata": {},
   "outputs": [],
   "source": [
    "# Reading instensities template"
   ]
  },
  {
   "cell_type": "code",
   "execution_count": 4,
   "id": "9dd99093",
   "metadata": {},
   "outputs": [],
   "source": [
    "intensities_template = pd.read_csv(\"intensities_template.csv\")"
   ]
  },
  {
   "cell_type": "code",
   "execution_count": 5,
   "id": "fa1639bf",
   "metadata": {},
   "outputs": [],
   "source": [
    "# Reading pixels files to calculte volumes"
   ]
  },
  {
   "cell_type": "code",
   "execution_count": 6,
   "id": "30bb003c",
   "metadata": {},
   "outputs": [],
   "source": [
    "header = [\"PIXEL_COUNT\"]\n",
    "pixels_count_volume = pd.read_csv(\"SMM_s1_ABA_histogram_total.csv\", names = header)\n",
    "pixels_count_volume.insert(0, column = 'INTENSITY', value = range(0, len(pixels_count_volume)))  \n",
    "pixels_count_volume_in_tissue = pd.read_csv(\"SMM_s1_ABA_histogram_in_tissue_total.csv\", names = header)\n",
    "pixels_count_volume_in_tissue.insert(0, column = 'INTENSITY', value = range(0, len(pixels_count_volume_in_tissue)))  "
   ]
  },
  {
   "cell_type": "code",
   "execution_count": 7,
   "id": "6b71bc8e",
   "metadata": {},
   "outputs": [],
   "source": [
    "# Reading pixels file to count cell activity"
   ]
  },
  {
   "cell_type": "code",
   "execution_count": 8,
   "id": "8bcd8873",
   "metadata": {},
   "outputs": [],
   "source": [
    "regions_count_activity_fracc = pd.read_csv(\"SMM_s1_DR_Seg_3Dcount_75slices.csv\")\n",
    "regions_count_activity_fracc = regions_count_activity_fracc[regions_count_activity_fracc.PIXEL_COUNT != \"PIXEL_COUNT\"] "
   ]
  },
  {
   "cell_type": "code",
   "execution_count": 9,
   "id": "37b9f73d",
   "metadata": {},
   "outputs": [],
   "source": [
    "# Adding-up regions' fracctions"
   ]
  },
  {
   "cell_type": "code",
   "execution_count": 20,
   "id": "895794cb",
   "metadata": {},
   "outputs": [],
   "source": [
    "regions_fracc_1 = regions_count_activity_fracc[[\"INTENSITY_1\", \"INTENSITY_1_PERC\"]]\n",
    "regions_fracc_2 = regions_count_activity_fracc[[\"INTENSITY_2\", \"INTENSITY_2_PERC\"]]\n",
    "regions_fracc_3 = regions_count_activity_fracc[[\"INTENSITY_3\", \"INTENSITY_3_PERC\"]]\n",
    "regions_fracc_1 = regions_fracc_1.rename(columns={\"INTENSITY_1\": \"INTENSITY\",\"INTENSITY_1_PERC\" : \"COUNTS\"})\n",
    "regions_fracc_2 = regions_fracc_2.rename(columns={\"INTENSITY_2\": \"INTENSITY\",\"INTENSITY_2_PERC\" : \"COUNTS\"})\n",
    "regions_fracc_3 = regions_fracc_3.rename(columns={\"INTENSITY_3\": \"INTENSITY\",\"INTENSITY_3_PERC\" : \"COUNTS\"})\n",
    "total_region_activity = regions_fracc_1.append(regions_fracc_2, ignore_index=True).append(regions_fracc_3, ignore_index=True)\n",
    "total_region_activity[\"COUNTS\"] = total_region_activity[\"COUNTS\"].astype(float)\n",
    "total_region_activity = total_region_activity.groupby(['INTENSITY']).agg('sum').reset_index()\n",
    "total_region_activity[\"COUNTS\"] = total_region_activity[\"COUNTS\"].round(0)"
   ]
  },
  {
   "cell_type": "code",
   "execution_count": 27,
   "id": "aeab0c5e",
   "metadata": {},
   "outputs": [],
   "source": [
    "# Adding volumes and activity columns to the template table"
   ]
  },
  {
   "cell_type": "code",
   "execution_count": 24,
   "id": "13a846fb",
   "metadata": {},
   "outputs": [],
   "source": [
    "output_s1 = intensities_template.merge(pixels_count_volume, how='left', left_on='LabelID', right_on='INTENSITY')\n",
    "output_s1 = output_s1.drop(columns=['INTENSITY'])\n",
    "output_s1 = output_s1.rename(columns = {'PIXEL_COUNT':'VOLUME'})\n",
    "output_s1 = output_s1.merge(pixels_count_volume_in_tissue, how='left', left_on='LabelID', right_on='INTENSITY')\n",
    "output_s1['VOLUME'] = output_s1['VOLUME'].div(1000000).round(6)\n",
    "output_s1 = output_s1.drop(columns=['INTENSITY'])\n",
    "output_s1 = output_s1.rename(columns = {'PIXEL_COUNT':'VOLUME_IN_TISSUE'})\n",
    "output_s1['VOLUME_IN_TISSUE'] = output_s1['VOLUME_IN_TISSUE'].div(1000000).round(6)\n",
    "output_s1[\"LabelID\"] = output_s1[\"LabelID\"].astype(int)\n",
    "total_region_activity[\"INTENSITY\"] = total_region_activity[\"INTENSITY\"].astype(int)\n",
    "output_s1 = output_s1.merge(total_region_activity, how='left', left_on='LabelID', right_on='INTENSITY')\n",
    "output_s1 = output_s1.drop(columns=['INTENSITY'])\n",
    "output_s1 = output_s1.rename(columns = {'COUNTS':'ACTIVITY'})"
   ]
  },
  {
   "cell_type": "code",
   "execution_count": 26,
   "id": "61898c7d",
   "metadata": {},
   "outputs": [],
   "source": [
    "output_s1.to_csv(r's1_DR.csv')"
   ]
  }
 ],
 "metadata": {
  "kernelspec": {
   "display_name": "Python 3",
   "language": "python",
   "name": "python3"
  },
  "language_info": {
   "codemirror_mode": {
    "name": "ipython",
    "version": 3
   },
   "file_extension": ".py",
   "mimetype": "text/x-python",
   "name": "python",
   "nbconvert_exporter": "python",
   "pygments_lexer": "ipython3",
   "version": "3.8.8"
  }
 },
 "nbformat": 4,
 "nbformat_minor": 5
}
