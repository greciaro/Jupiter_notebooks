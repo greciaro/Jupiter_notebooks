{
 "cells": [
  {
   "cell_type": "code",
   "execution_count": 1,
   "metadata": {},
   "outputs": [],
   "source": [
    "import csv\n",
    "import os\n",
    "import numpy as np\n",
    "import pandas as pd"
   ]
  },
  {
   "cell_type": "code",
   "execution_count": 6,
   "metadata": {},
   "outputs": [],
   "source": [
    "main_directory = os.getcwd()\n",
    "conditions = pd.read_csv(\"samples_condition_database.csv\")\n",
    "files_path = main_directory + '/'+'files'\n",
    "os.chdir(files_path)\n",
    "sample_files = os.listdir() \n",
    "number_files = len(sample_files)\n",
    "\n",
    "new_names = ['1.nii.gz','2.nii.gz','3.nii.gz']\n",
    "\n",
    "i = 0\n",
    "while i < number_files:\n",
    "    os.rename(sample_files[i], new_names[i])\n",
    "    i += 1"
   ]
  },
  {
   "cell_type": "code",
   "execution_count": 5,
   "metadata": {},
   "outputs": [],
   "source": [
    "os.chdir(main_directory)"
   ]
  },
  {
   "cell_type": "code",
   "execution_count": null,
   "metadata": {},
   "outputs": [],
   "source": [
    " for r in conditions:\n",
    "     oldPath = row[0]\n",
    "     newPath = row[1]"
   ]
  },
  {
   "cell_type": "code",
   "execution_count": null,
   "metadata": {},
   "outputs": [],
   "source": [
    "conditions"
   ]
  },
  {
   "cell_type": "code",
   "execution_count": null,
   "metadata": {},
   "outputs": [],
   "source": [
    "\n",
    "What about using a CSV (comma separated) file for input in the format oldPath, newPath and do the following:\n",
    "\n",
    "\n",
    "\n",
    "\n",
    "     for row in condition:\n",
    "         oldPath = row[0]\n",
    "         newPath = row[1]\n",
    "         os.rename(oldPath, newPath)"
   ]
  }
 ],
 "metadata": {
  "kernelspec": {
   "display_name": "Python 3",
   "language": "python",
   "name": "python3"
  },
  "language_info": {
   "codemirror_mode": {
    "name": "ipython",
    "version": 3
   },
   "file_extension": ".py",
   "mimetype": "text/x-python",
   "name": "python",
   "nbconvert_exporter": "python",
   "pygments_lexer": "ipython3",
   "version": "3.7.6"
  }
 },
 "nbformat": 4,
 "nbformat_minor": 4
}
