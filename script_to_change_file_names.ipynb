{
 "cells": [
  {
   "cell_type": "code",
   "execution_count": 1,
   "metadata": {},
   "outputs": [],
   "source": [
    "import csv\n",
    "import os\n",
    "import numpy as np\n",
    "import pandas as pd"
   ]
  },
  {
   "cell_type": "code",
   "execution_count": 2,
   "metadata": {},
   "outputs": [],
   "source": [
    "def name_changer(old, dat):\n",
    "    j = 0\n",
    "    size = len(original_file_names)\n",
    "    new =[''] * size\n",
    "    while j < size:\n",
    "        sample_number = original_file_names[j].split('_')[0]\n",
    "        sample_condition = (conditions['CONDITION'].loc[conditions['SAMPLE_NUMBER'] == sample_number]).to_string(header=False, index=False)\n",
    "        new[j] = sample_condition + '_' + original_file_names[j]\n",
    "        j += 1\n",
    "    return new"
   ]
  },
  {
   "cell_type": "code",
   "execution_count": 3,
   "metadata": {},
   "outputs": [],
   "source": [
    "main_directory = os.getcwd()\n",
    "conditions = pd.read_csv('samples_condition_database.csv')\n",
    "files_path = main_directory + '/'+'files'\n",
    "os.chdir(files_path)\n",
    "original_file_names = os.listdir() \n",
    "number_files = len(original_file_names)\n",
    "\n",
    "new_files_names = name_changer(original_file_names, conditions)\n",
    "\n",
    "i = 0\n",
    "while i < number_files:\n",
    "    os.rename(original_file_names[i], new_files_names[i])\n",
    "    i += 1\n",
    "    \n",
    "os.chdir(main_directory)"
   ]
  }
 ],
 "metadata": {
  "kernelspec": {
   "display_name": "Python 3",
   "language": "python",
   "name": "python3"
  },
  "language_info": {
   "codemirror_mode": {
    "name": "ipython",
    "version": 3
   },
   "file_extension": ".py",
   "mimetype": "text/x-python",
   "name": "python",
   "nbconvert_exporter": "python",
   "pygments_lexer": "ipython3",
   "version": "3.7.6"
  }
 },
 "nbformat": 4,
 "nbformat_minor": 4
}
