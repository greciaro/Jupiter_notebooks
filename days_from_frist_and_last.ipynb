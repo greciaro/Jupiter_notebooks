{
 "cells": [
  {
   "cell_type": "code",
   "execution_count": 1,
   "metadata": {},
   "outputs": [],
   "source": [
    "# importing all libraries needed\n",
    "import numpy as np\n",
    "import pandas as pd\n",
    "import os"
   ]
  },
  {
   "cell_type": "code",
   "execution_count": 2,
   "metadata": {},
   "outputs": [],
   "source": [
    "source =  pd.read_csv('cleaned (1).csv')"
   ]
  },
  {
   "cell_type": "code",
   "execution_count": 3,
   "metadata": {},
   "outputs": [],
   "source": [
    "days_current_1st_column = np.empty(len(source))\n",
    "source['days since first'] = days_current_1st_column\n",
    "days_current_last_column = np.empty(len(source))\n",
    "source['days since last'] = days_current_last_column"
   ]
  },
  {
   "cell_type": "code",
   "execution_count": 4,
   "metadata": {},
   "outputs": [],
   "source": [
    "for index, row in source.iterrows():\n",
    "    last = source.loc[source['Apt_no'] == source['Apt_no_total'] , 'Date']\n",
    "    last_ID = source.loc[source['Apt_no'] == source['Apt_no_total'] , 'Patient_ID']\n",
    "    first = source.loc[source['Apt_no'] == 1 , 'Date']\n",
    "    first_ID = source.loc[source['Apt_no'] == 1 , 'Patient_ID']\n",
    "    \n",
    "last = last.tolist()\n",
    "last_ID = last_ID.tolist()\n",
    "first = first.tolist()\n",
    "first_ID = first_ID.tolist()    \n"
   ]
  },
  {
   "cell_type": "code",
   "execution_count": 12,
   "metadata": {},
   "outputs": [],
   "source": [
    "prelast = []\n",
    "prelast_ID = []\n",
    "for i  in range(0, len(last_ID)):\n",
    "    prelast.append(source.loc[(source['Patient_ID'] == last_ID[i]) & (source['Apt_no'] == source['Apt_no_total'] - 1), 'Date'])\n",
    "    prelast_ID.append(source.loc[(source['Patient_ID'] == last_ID[i]) & (source['Apt_no'] == source['Apt_no_total'] - 1), 'Patient_ID'])\n",
    "       "
   ]
  },
  {
   "cell_type": "code",
   "execution_count": 17,
   "metadata": {},
   "outputs": [],
   "source": [
    "for i  in range(0, len(last_ID)):   \n",
    "    prelast[i] = prelast[i].to_string()\n",
    "    prelast_ID[i] = prelast_ID[i].to_string()"
   ]
  },
  {
   "cell_type": "code",
   "execution_count": 25,
   "metadata": {},
   "outputs": [
    {
     "name": "stderr",
     "output_type": "stream",
     "text": [
      "C:\\Users\\intri\\anaconda3\\lib\\site-packages\\ipykernel_launcher.py:2: SettingWithCopyWarning: \n",
      "A value is trying to be set on a copy of a slice from a DataFrame\n",
      "\n",
      "See the caveats in the documentation: https://pandas.pydata.org/pandas-docs/stable/user_guide/indexing.html#returning-a-view-versus-a-copy\n",
      "  \n",
      "C:\\Users\\intri\\anaconda3\\lib\\site-packages\\ipykernel_launcher.py:3: SettingWithCopyWarning: \n",
      "A value is trying to be set on a copy of a slice from a DataFrame\n",
      "\n",
      "See the caveats in the documentation: https://pandas.pydata.org/pandas-docs/stable/user_guide/indexing.html#returning-a-view-versus-a-copy\n",
      "  This is separate from the ipykernel package so we can avoid doing imports until\n"
     ]
    }
   ],
   "source": [
    "for i  in range(0, len(last_ID)): \n",
    "    source['days since first'][i] = last_ID[i]\n",
    "    source['days since last'][i] = prelast_ID[i]"
   ]
  },
  {
   "cell_type": "code",
   "execution_count": 26,
   "metadata": {},
   "outputs": [],
   "source": [
    "source.to_csv('source.csv', index=False)"
   ]
  },
  {
   "cell_type": "code",
   "execution_count": 7,
   "metadata": {},
   "outputs": [],
   "source": [
    "# last_ID[0] == prelast_ID["
   ]
  },
  {
   "cell_type": "code",
   "execution_count": 18,
   "metadata": {},
   "outputs": [
    {
     "data": {
      "text/plain": [
       "str"
      ]
     },
     "execution_count": 18,
     "metadata": {},
     "output_type": "execute_result"
    }
   ],
   "source": [
    "type(prelast_ID[0])"
   ]
  },
  {
   "cell_type": "code",
   "execution_count": null,
   "metadata": {},
   "outputs": [],
   "source": []
  }
 ],
 "metadata": {
  "kernelspec": {
   "display_name": "Python 3",
   "language": "python",
   "name": "python3"
  },
  "language_info": {
   "codemirror_mode": {
    "name": "ipython",
    "version": 3
   },
   "file_extension": ".py",
   "mimetype": "text/x-python",
   "name": "python",
   "nbconvert_exporter": "python",
   "pygments_lexer": "ipython3",
   "version": "3.7.6"
  }
 },
 "nbformat": 4,
 "nbformat_minor": 4
}
